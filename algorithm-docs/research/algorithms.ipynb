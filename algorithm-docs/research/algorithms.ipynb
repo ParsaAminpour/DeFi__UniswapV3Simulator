{
 "cells": [
  {
   "cell_type": "markdown",
   "metadata": {},
   "source": [
    "## Uniswap V3 Architecture (Math Explanation)"
   ]
  },
  {
   "cell_type": "code",
   "execution_count": 2,
   "metadata": {},
   "outputs": [],
   "source": [
    "import numpy as np\n",
    "import math"
   ]
  },
  {
   "cell_type": "markdown",
   "metadata": {},
   "source": [
    " we’re going to buy ETH for USDC at the price of $5000 per 1 ETH.\n",
    " \n",
    " We’ll need to find three ticks:\n",
    "\n",
    "    The current tick will correspond to the current price (5000 USDC for 1 ETH).\n",
    "    The lower and upper bounds of the price range we’re providing liquidity into. Let the lower price be $4545 and the upper price be $5500."
   ]
  },
  {
   "cell_type": "code",
   "execution_count": null,
   "metadata": {},
   "outputs": [],
   "source": [
    "# Calculating price\n",
    "def calculating_price(x:float, y:float) -> float:\n",
    "    return math.sqrt(y, x)\n",
    "\n",
    "# Calculating price tick\n",
    "def price_to_tick(p:float) -> float:\n",
    "    p = math.sqrt(p)\n",
    "    return math.floor(math.log(p, 1.0001))\n",
    "\n",
    "q96 = 2**96\n",
    "def price_to_sqrtp(p:float) -> int:\n",
    "    return int(math.sqrt(p) * q96)\n",
    "\n",
    "\n",
    "# Liquidity Amount Calculation\n",
    "sqrtp_low = price_to_sqrtp(4545)\n",
    "sqrtp_cur = price_to_sqrtp(5000)\n",
    "sqrtp_upp = price_to_sqrtp(5500)\n",
    "\n",
    "def liquidity0(amount, pa, pb):\n",
    "    if pa > pb:\n",
    "        pa, pb = pb, pa\n",
    "    return (amount * (pa * pb) / q96) / (pb - pa)\n",
    "\n",
    "def liquidity1(amount, pa, pb):\n",
    "    if pa > pb:\n",
    "        pa, pb = pb, pa\n",
    "    return amount * q96 / (pb - pa)\n",
    "\n",
    "eth = 10**18\n",
    "amount_eth = 1 * eth\n",
    "amount_usdc = 5000 * eth\n",
    "\n",
    "liq0 = liquidity0(amount_eth, sqrtp_cur, sqrtp_upp)\n",
    "liq1 = liquidity1(amount_usdc, sqrtp_cur, sqrtp_low)\n",
    "liq = int(min(liq0, liq1))\n",
    "# > 1517882343751509868544\n",
    "\n",
    "\n",
    "# Token Amounts Calculation\n",
    "def calc_amount0(liq, pa, pb):\n",
    "    if pa > pb:\n",
    "        pa, pb = pb, pa\n",
    "    return int(liq * q96 * (pb - pa) / pa / pb)\n",
    "\n",
    "def calc_amount1(liq, pa, pb):\n",
    "    if pa > pb:\n",
    "        pa, pb = pb, pa\n",
    "    return int(liq * (pb - pa) / q96)\n",
    "\n",
    "amount0 = calc_amount0(liq, sqrtp_upp, sqrtp_cur)\n",
    "amount1 = calc_amount1(liq, sqrtp_low, sqrtp_cur)\n",
    "(amount0, amount1)\n",
    "# > (998976618347425408, 5000000000000000000000)\n",
    "\n"
   ]
  }
 ],
 "metadata": {
  "kernelspec": {
   "display_name": "Python 3",
   "language": "python",
   "name": "python3"
  },
  "language_info": {
   "codemirror_mode": {
    "name": "ipython",
    "version": 3
   },
   "file_extension": ".py",
   "mimetype": "text/x-python",
   "name": "python",
   "nbconvert_exporter": "python",
   "pygments_lexer": "ipython3",
   "version": "3.10.12"
  }
 },
 "nbformat": 4,
 "nbformat_minor": 2
}
