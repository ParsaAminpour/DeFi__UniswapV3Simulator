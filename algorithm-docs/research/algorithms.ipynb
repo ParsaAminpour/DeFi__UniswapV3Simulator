{
 "cells": [
  {
   "cell_type": "markdown",
   "metadata": {},
   "source": [
    "## Uniswap V3 Architecture (Math Explanation)"
   ]
  },
  {
   "cell_type": "code",
   "execution_count": 10,
   "metadata": {},
   "outputs": [],
   "source": [
    "from rich import print\n",
    "import numpy as np\n",
    "import math"
   ]
  },
  {
   "cell_type": "markdown",
   "metadata": {},
   "source": [
    " we’re going to buy ETH for USDC at the price of $5000 per 1 ETH.\n",
    " \n",
    " We’ll need to find three ticks:\n",
    "\n",
    "The current tick will correspond to the current price (5000 USDC for 1 ETH).\n",
    "The lower and upper bounds of the price range we’re providing liquidity into. Let the lower price be $4545 and the upper price be $5500."
   ]
  },
  {
   "cell_type": "code",
   "execution_count": 11,
   "metadata": {},
   "outputs": [],
   "source": [
    "# Calculating price\n",
    "def calculating_price(x:float, y:float) -> float:\n",
    "    return math.sqrt(y, x)\n",
    "\n",
    "# Calculating price tick\n",
    "def price_to_tick(p:float) -> float:\n",
    "    return math.floor(math.log(p, 1.0001))\n",
    "\n",
    "'''\n",
    "The way that UniswaV3 store sqrt(p) is using Q64.96 number which is the fixed point.\n",
    "in previous calculation, the prices are floating point numbers, so we need to convert them to Q64.96 indeed.\n",
    "Ultimately the result come from (price * (2**96)) just like following function:\n",
    "'''\n",
    "q96 = 2**96\n",
    "def price_to_sqrtp(p:float) -> int:\n",
    "    return int(math.sqrt(p) * q96)\n",
    "\n",
    "# Liquidity Amount Calculation\n",
    "sqrtp_low = price_to_sqrtp(4545)\n",
    "sqrtp_cur = price_to_sqrtp(5000)\n",
    "sqrtp_upp = price_to_sqrtp(5500)\n",
    "\n",
    "\n",
    "\n",
    "'''\n",
    "Based on the noted calculation, for calculating liquidity, there are two different segment for\n",
    "each pair, once liquidity got x and once liquidity for y.\n",
    "'''\n",
    "def liquidity0(amount:float, pa:float, pb:float) -> float:\n",
    "    '''\n",
    "    amount -> amount of liquidity to add\n",
    "    pa -> current price Q64.96\n",
    "    ob -> upper price (in specific range) Q64.96\n",
    "    '''\n",
    "    if pa > pb:\n",
    "        pa, pb = pb, pa\n",
    "    return (amount * (pa * pb) / q96) / (pb - pa)\n",
    "\n",
    "def liquidity1(amount, pa, pb):\n",
    "    '''\n",
    "    amount -> amount of liquidity to add\n",
    "    pc -> current price Q64.96\n",
    "    ob -> upper price (in specific range) Q64.96\n",
    "    '''\n",
    "    if pa > pb:\n",
    "        pa, pb = pb, pa\n",
    "    return amount * q96 / (pb - pa)\n",
    "\n",
    "eth_precision = 10**18\n",
    "amount_eth = 1 * eth_precision\n",
    "amount_usdc = 5000 * eth_precision\n",
    "\n",
    "liq0 = liquidity0(amount_eth, sqrtp_cur, sqrtp_upp)\n",
    "liq1 = liquidity1(amount_usdc, sqrtp_cur, sqrtp_low)\n",
    "liq = int(min(liq0, liq1))\n",
    "# > 1517882343751509868544\n",
    "\n"
   ]
  },
  {
   "cell_type": "markdown",
   "metadata": {},
   "source": [
    "\n",
    "<br />"
   ]
  },
  {
   "cell_type": "markdown",
   "metadata": {},
   "source": [
    "\n",
    "\n",
    "\n",
    "\n",
    "### Token Amounts Calculation\n",
    "Since we choose the amounts we’re going to deposit, the amounts can be wrong. We cannot deposit any amounts at any price range; the liquidity amount needs to be distributed evenly along the curve of the price range we’re depositing into. Thus, even though users choose amounts, the contract needs to re-calculate them, and actual amounts will be slightly different (at least because of rounding).\n",
    "\n",
    "Luckily, we already know the formulas:"
   ]
  },
  {
   "cell_type": "code",
   "execution_count": 12,
   "metadata": {},
   "outputs": [
    {
     "data": {
      "text/plain": [
       "(998976618347425408, 5000000000000000000000)"
      ]
     },
     "execution_count": 12,
     "metadata": {},
     "output_type": "execute_result"
    }
   ],
   "source": [
    "# Token Amounts Calculation\n",
    "def calc_amount0(liq, pa, pb):\n",
    "    if pa > pb:\n",
    "        pa, pb = pb, pa\n",
    "    return int(liq * q96 * (pb - pa) / pa / pb)\n",
    "\n",
    "def calc_amount1(liq, pa, pb):\n",
    "    if pa > pb:\n",
    "        pa, pb = pb, pa\n",
    "    return int(liq * (pb - pa) / q96)\n",
    "\n",
    "amount0 = calc_amount0(liq, sqrtp_upp, sqrtp_cur)\n",
    "amount1 = calc_amount1(liq, sqrtp_low, sqrtp_cur)\n",
    "(amount0, amount1)\n",
    "# > (998976618347425408, 5000000000000000000000)"
   ]
  },
  {
   "cell_type": "markdown",
   "metadata": {},
   "source": [
    "### Test Functions:"
   ]
  },
  {
   "cell_type": "code",
   "execution_count": 13,
   "metadata": {},
   "outputs": [
    {
     "data": {
      "text/plain": [
       "5602277097478614198912276234240"
      ]
     },
     "execution_count": 13,
     "metadata": {},
     "output_type": "execute_result"
    }
   ],
   "source": [
    "price_to_tick(5000)\n",
    "sqrtp_cur"
   ]
  },
  {
   "cell_type": "markdown",
   "metadata": {},
   "source": [
    "<hr />"
   ]
  },
  {
   "cell_type": "markdown",
   "metadata": {},
   "source": [
    "## First Swap\n",
    "After deciding how many tokens we want to sell, we need to calculate how many tokens we’ll get in exchange. In Uniswap V2, we would’ve used current pool reserves, but in Uniswap V3 we have L and sqrt(P) and we know the fact that when swapping within a price range, only sqrt(P) changes and L remains unchanged (Uniswap V3 acts exactly as V2 when swapping is done only within one price range). We also know that:"
   ]
  },
  {
   "cell_type": "code",
   "execution_count": 14,
   "metadata": {},
   "outputs": [
    {
     "data": {
      "text/html": [
       "<pre style=\"white-space:pre;overflow-x:auto;line-height:normal;font-family:Menlo,'DejaVu Sans Mono',consolas,'Courier New',monospace\">New price: <span style=\"color: #008080; text-decoration-color: #008080; font-weight: bold\">5003.913912782393</span>\n",
       "</pre>\n"
      ],
      "text/plain": [
       "New price: \u001b[1;36m5003.913912782393\u001b[0m\n"
      ]
     },
     "metadata": {},
     "output_type": "display_data"
    },
    {
     "data": {
      "text/html": [
       "<pre style=\"white-space:pre;overflow-x:auto;line-height:normal;font-family:Menlo,'DejaVu Sans Mono',consolas,'Courier New',monospace\">New sqrtP: <span style=\"color: #008080; text-decoration-color: #008080; font-weight: bold\">5604469350942327889444743441197</span>\n",
       "</pre>\n"
      ],
      "text/plain": [
       "New sqrtP: \u001b[1;36m5604469350942327889444743441197\u001b[0m\n"
      ]
     },
     "metadata": {},
     "output_type": "display_data"
    },
    {
     "data": {
      "text/html": [
       "<pre style=\"white-space:pre;overflow-x:auto;line-height:normal;font-family:Menlo,'DejaVu Sans Mono',consolas,'Courier New',monospace\">New tick: <span style=\"color: #008080; text-decoration-color: #008080; font-weight: bold\">85184</span>\n",
       "</pre>\n"
      ],
      "text/plain": [
       "New tick: \u001b[1;36m85184\u001b[0m\n"
      ]
     },
     "metadata": {},
     "output_type": "display_data"
    }
   ],
   "source": [
    "amount_in = 42 * eth_precision\n",
    "price_diff = (amount_in * q96) // liq\n",
    "price_next = sqrtp_cur + price_diff\n",
    "print(\"New price:\", (price_next / q96) ** 2)\n",
    "print(\"New sqrtP:\", price_next)\n",
    "print(\"New tick:\", price_to_tick((price_next / q96) ** 2))\n"
   ]
  },
  {
   "cell_type": "markdown",
   "metadata": {},
   "source": [
    "After finding the target price, we can calculate token amounts using the amounts calculation functions from a previous chapter:"
   ]
  },
  {
   "cell_type": "code",
   "execution_count": 15,
   "metadata": {},
   "outputs": [
    {
     "data": {
      "text/html": [
       "<pre style=\"white-space:pre;overflow-x:auto;line-height:normal;font-family:Menlo,'DejaVu Sans Mono',consolas,'Courier New',monospace\">USDC in: <span style=\"color: #008080; text-decoration-color: #008080; font-weight: bold\">42.0</span>\n",
       "</pre>\n"
      ],
      "text/plain": [
       "USDC in: \u001b[1;36m42.0\u001b[0m\n"
      ]
     },
     "metadata": {},
     "output_type": "display_data"
    },
    {
     "data": {
      "text/html": [
       "<pre style=\"white-space:pre;overflow-x:auto;line-height:normal;font-family:Menlo,'DejaVu Sans Mono',consolas,'Courier New',monospace\">ETH out: <span style=\"color: #008080; text-decoration-color: #008080; font-weight: bold\">0.008396714242162444</span>\n",
       "</pre>\n"
      ],
      "text/plain": [
       "ETH out: \u001b[1;36m0.008396714242162444\u001b[0m\n"
      ]
     },
     "metadata": {},
     "output_type": "display_data"
    }
   ],
   "source": [
    "amount_in = calc_amount1(liq, price_next, sqrtp_cur)\n",
    "amount_out = calc_amount0(liq, price_next, sqrtp_cur)\n",
    "\n",
    "print(\"USDC in:\", amount_in / eth_precision)\n",
    "print(\"ETH out:\", amount_out / eth_precision)"
   ]
  },
  {
   "cell_type": "code",
   "execution_count": null,
   "metadata": {},
   "outputs": [],
   "source": []
  }
 ],
 "metadata": {
  "kernelspec": {
   "display_name": "Python 3",
   "language": "python",
   "name": "python3"
  },
  "language_info": {
   "codemirror_mode": {
    "name": "ipython",
    "version": 3
   },
   "file_extension": ".py",
   "mimetype": "text/x-python",
   "name": "python",
   "nbconvert_exporter": "python",
   "pygments_lexer": "ipython3",
   "version": "3.10.12"
  }
 },
 "nbformat": 4,
 "nbformat_minor": 2
}
